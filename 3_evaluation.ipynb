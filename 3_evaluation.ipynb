{
 "cells": [
  {
   "cell_type": "markdown",
   "id": "fa2a7358",
   "metadata": {},
   "source": [
    "# Evaluation (평가)"
   ]
  },
  {
   "cell_type": "markdown",
   "id": "9461dc2b",
   "metadata": {},
   "source": [
    "- 분류모델에서만 씀"
   ]
  },
  {
   "cell_type": "markdown",
   "id": "10e26de1",
   "metadata": {},
   "source": [
    "# 1. Accuracy (정확도)"
   ]
  },
  {
   "cell_type": "markdown",
   "id": "01a6e624",
   "metadata": {},
   "source": [
    "- 전체 예측 중 얼마나 맞췄는지 측정\n",
    "- Accuracy = $\\frac{TP + TN}{TP + TN + FP + FN}$"
   ]
  },
  {
   "cell_type": "code",
   "execution_count": 1,
   "id": "aac5995d",
   "metadata": {},
   "outputs": [],
   "source": [
    "from sklearn.metrics import accuracy_score"
   ]
  },
  {
   "cell_type": "code",
   "execution_count": null,
   "id": "5f02d43c",
   "metadata": {},
   "outputs": [
    {
     "data": {
      "text/plain": [
       "0.8333333333333334"
      ]
     },
     "execution_count": 2,
     "metadata": {},
     "output_type": "execute_result"
    }
   ],
   "source": [
    "y_true = [1, 0, 1, 1, 0, 1]     # 실제 정답값\n",
    "y_pred = [1, 0, 1, 0, 0, 1]     # 예측값\n",
    "\n",
    "accuracy_score(y_true, y_pred)"
   ]
  },
  {
   "cell_type": "markdown",
   "id": "c8e59b9d",
   "metadata": {},
   "source": [
    "# 2. Precision (정밀도)"
   ]
  },
  {
   "cell_type": "markdown",
   "id": "770314bf",
   "metadata": {},
   "source": [
    "- 예측을 Positive로 한 것 중 실제로 Positive인 비율 -> 모델이 맞췄다고 한 것들 중에 진짜로 맞춘게 몇 개?\n",
    "- (실제 정답 10개 중 모델이 맞췄다고 한 게 3개 -> 정밀도 100)\n",
    "- False Positive를 줄이고 싶을때 중요\n",
    "- Precision = $\\frac{TP}{TP + FP}$"
   ]
  },
  {
   "cell_type": "code",
   "execution_count": 3,
   "id": "5c73043a",
   "metadata": {},
   "outputs": [],
   "source": [
    "from sklearn.metrics import precision_score"
   ]
  },
  {
   "cell_type": "code",
   "execution_count": 4,
   "id": "71c59462",
   "metadata": {},
   "outputs": [
    {
     "data": {
      "text/plain": [
       "1.0"
      ]
     },
     "execution_count": 4,
     "metadata": {},
     "output_type": "execute_result"
    }
   ],
   "source": [
    "precision_score(y_true, y_pred)"
   ]
  },
  {
   "cell_type": "markdown",
   "id": "7bb2d20c",
   "metadata": {},
   "source": [
    "# 3. Recall (재현율)"
   ]
  },
  {
   "cell_type": "markdown",
   "id": "22e1d678",
   "metadata": {},
   "source": [
    "- 실제 Positive 중 얼마나 잘 예측했는가 -> 진짜 정답 중에서 내가 몇 개나 제대로 맞췄나?\n",
    "- (실제 정답 10개 중 모델이 맞췄다고 한 게 3개 -> 재현율 30)\n",
    "- False Negative 를 줄이고 싶을때 중요\n",
    "- Recall = $\\frac{TP}{TP + FN}$"
   ]
  },
  {
   "cell_type": "markdown",
   "id": "7bcf76d1",
   "metadata": {},
   "source": [
    "# 4. F1 Score"
   ]
  },
  {
   "cell_type": "markdown",
   "id": "031045f3",
   "metadata": {},
   "source": [
    "- Precision과 Recall의 조화 평균\n",
    "- 두 지표간의 균형 유지를 원할 때 사용\n",
    "- 의료쪽 데이터\n",
    "- F1 = 2 * $\\frac{Precision * Recall}{Precision + Recall}$"
   ]
  },
  {
   "cell_type": "markdown",
   "id": "0d0900db",
   "metadata": {},
   "source": [
    "# 5. Confusion Matrix"
   ]
  },
  {
   "cell_type": "markdown",
   "id": "92a06f8f",
   "metadata": {},
   "source": [
    "- 분류모델에서만 사용\n",
    "- 결과를 나타냄 (TP, FP, FN, TN)"
   ]
  },
  {
   "cell_type": "code",
   "execution_count": 5,
   "id": "0770ebdc",
   "metadata": {},
   "outputs": [
    {
     "data": {
      "text/plain": [
       "array([[2, 0],\n",
       "       [1, 3]])"
      ]
     },
     "execution_count": 5,
     "metadata": {},
     "output_type": "execute_result"
    }
   ],
   "source": [
    "from sklearn.metrics import confusion_matrix\n",
    "\n",
    "confusion_matrix(y_true, y_pred)"
   ]
  },
  {
   "cell_type": "markdown",
   "id": "4f58ec49",
   "metadata": {},
   "source": [
    "# 6. ROC Curve & AUC (이진 분류)"
   ]
  },
  {
   "cell_type": "markdown",
   "id": "b8611c01",
   "metadata": {},
   "source": [
    "# 7. Classification Report (요약 리포트)"
   ]
  },
  {
   "cell_type": "code",
   "execution_count": 6,
   "id": "5c162a80",
   "metadata": {},
   "outputs": [
    {
     "name": "stdout",
     "output_type": "stream",
     "text": [
      "              precision    recall  f1-score   support\n",
      "\n",
      "           0       0.67      1.00      0.80         2\n",
      "           1       1.00      0.75      0.86         4\n",
      "\n",
      "    accuracy                           0.83         6\n",
      "   macro avg       0.83      0.88      0.83         6\n",
      "weighted avg       0.89      0.83      0.84         6\n",
      "\n"
     ]
    }
   ],
   "source": [
    "from sklearn.metrics import classification_report\n",
    "\n",
    "print(classification_report(y_true, y_pred))"
   ]
  }
 ],
 "metadata": {
  "kernelspec": {
   "display_name": "machine-learning",
   "language": "python",
   "name": "python3"
  },
  "language_info": {
   "codemirror_mode": {
    "name": "ipython",
    "version": 3
   },
   "file_extension": ".py",
   "mimetype": "text/x-python",
   "name": "python",
   "nbconvert_exporter": "python",
   "pygments_lexer": "ipython3",
   "version": "3.13.5"
  }
 },
 "nbformat": 4,
 "nbformat_minor": 5
}
