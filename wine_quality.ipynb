{
 "cells": [
  {
   "cell_type": "code",
   "execution_count": null,
   "id": "24dade10",
   "metadata": {},
   "outputs": [],
   "source": [
    "# https://www.kaggle.com/code/nimapourmoradi/red-wine-quality/input?select=winequality-red.csv"
   ]
  },
  {
   "cell_type": "code",
   "execution_count": 1,
   "id": "c77f3b6c",
   "metadata": {},
   "outputs": [],
   "source": [
    "import pandas as pd"
   ]
  },
  {
   "cell_type": "code",
   "execution_count": 2,
   "id": "7121f961",
   "metadata": {},
   "outputs": [
    {
     "data": {
      "text/html": [
       "<div>\n",
       "<style scoped>\n",
       "    .dataframe tbody tr th:only-of-type {\n",
       "        vertical-align: middle;\n",
       "    }\n",
       "\n",
       "    .dataframe tbody tr th {\n",
       "        vertical-align: top;\n",
       "    }\n",
       "\n",
       "    .dataframe thead th {\n",
       "        text-align: right;\n",
       "    }\n",
       "</style>\n",
       "<table border=\"1\" class=\"dataframe\">\n",
       "  <thead>\n",
       "    <tr style=\"text-align: right;\">\n",
       "      <th></th>\n",
       "      <th>fixed acidity</th>\n",
       "      <th>volatile acidity</th>\n",
       "      <th>citric acid</th>\n",
       "      <th>residual sugar</th>\n",
       "      <th>chlorides</th>\n",
       "      <th>free sulfur dioxide</th>\n",
       "      <th>total sulfur dioxide</th>\n",
       "      <th>density</th>\n",
       "      <th>pH</th>\n",
       "      <th>sulphates</th>\n",
       "      <th>alcohol</th>\n",
       "      <th>quality</th>\n",
       "    </tr>\n",
       "  </thead>\n",
       "  <tbody>\n",
       "    <tr>\n",
       "      <th>0</th>\n",
       "      <td>7.4</td>\n",
       "      <td>0.70</td>\n",
       "      <td>0.00</td>\n",
       "      <td>1.9</td>\n",
       "      <td>0.076</td>\n",
       "      <td>11.0</td>\n",
       "      <td>34.0</td>\n",
       "      <td>0.9978</td>\n",
       "      <td>3.51</td>\n",
       "      <td>0.56</td>\n",
       "      <td>9.4</td>\n",
       "      <td>5</td>\n",
       "    </tr>\n",
       "    <tr>\n",
       "      <th>1</th>\n",
       "      <td>7.8</td>\n",
       "      <td>0.88</td>\n",
       "      <td>0.00</td>\n",
       "      <td>2.6</td>\n",
       "      <td>0.098</td>\n",
       "      <td>25.0</td>\n",
       "      <td>67.0</td>\n",
       "      <td>0.9968</td>\n",
       "      <td>3.20</td>\n",
       "      <td>0.68</td>\n",
       "      <td>9.8</td>\n",
       "      <td>5</td>\n",
       "    </tr>\n",
       "    <tr>\n",
       "      <th>2</th>\n",
       "      <td>7.8</td>\n",
       "      <td>0.76</td>\n",
       "      <td>0.04</td>\n",
       "      <td>2.3</td>\n",
       "      <td>0.092</td>\n",
       "      <td>15.0</td>\n",
       "      <td>54.0</td>\n",
       "      <td>0.9970</td>\n",
       "      <td>3.26</td>\n",
       "      <td>0.65</td>\n",
       "      <td>9.8</td>\n",
       "      <td>5</td>\n",
       "    </tr>\n",
       "    <tr>\n",
       "      <th>3</th>\n",
       "      <td>11.2</td>\n",
       "      <td>0.28</td>\n",
       "      <td>0.56</td>\n",
       "      <td>1.9</td>\n",
       "      <td>0.075</td>\n",
       "      <td>17.0</td>\n",
       "      <td>60.0</td>\n",
       "      <td>0.9980</td>\n",
       "      <td>3.16</td>\n",
       "      <td>0.58</td>\n",
       "      <td>9.8</td>\n",
       "      <td>6</td>\n",
       "    </tr>\n",
       "    <tr>\n",
       "      <th>4</th>\n",
       "      <td>7.4</td>\n",
       "      <td>0.70</td>\n",
       "      <td>0.00</td>\n",
       "      <td>1.9</td>\n",
       "      <td>0.076</td>\n",
       "      <td>11.0</td>\n",
       "      <td>34.0</td>\n",
       "      <td>0.9978</td>\n",
       "      <td>3.51</td>\n",
       "      <td>0.56</td>\n",
       "      <td>9.4</td>\n",
       "      <td>5</td>\n",
       "    </tr>\n",
       "  </tbody>\n",
       "</table>\n",
       "</div>"
      ],
      "text/plain": [
       "   fixed acidity  volatile acidity  citric acid  residual sugar  chlorides  \\\n",
       "0            7.4              0.70         0.00             1.9      0.076   \n",
       "1            7.8              0.88         0.00             2.6      0.098   \n",
       "2            7.8              0.76         0.04             2.3      0.092   \n",
       "3           11.2              0.28         0.56             1.9      0.075   \n",
       "4            7.4              0.70         0.00             1.9      0.076   \n",
       "\n",
       "   free sulfur dioxide  total sulfur dioxide  density    pH  sulphates  \\\n",
       "0                 11.0                  34.0   0.9978  3.51       0.56   \n",
       "1                 25.0                  67.0   0.9968  3.20       0.68   \n",
       "2                 15.0                  54.0   0.9970  3.26       0.65   \n",
       "3                 17.0                  60.0   0.9980  3.16       0.58   \n",
       "4                 11.0                  34.0   0.9978  3.51       0.56   \n",
       "\n",
       "   alcohol  quality  \n",
       "0      9.4        5  \n",
       "1      9.8        5  \n",
       "2      9.8        5  \n",
       "3      9.8        6  \n",
       "4      9.4        5  "
      ]
     },
     "execution_count": 2,
     "metadata": {},
     "output_type": "execute_result"
    }
   ],
   "source": [
    "df = pd.read_csv(\"data/winequality-red.csv\")\n",
    "df.head()"
   ]
  },
  {
   "cell_type": "code",
   "execution_count": null,
   "id": "199b1267",
   "metadata": {},
   "outputs": [],
   "source": [
    "# | 컬럼명                      | 설명                                                              \n",
    "# | ------------------------ | -----------------------------------------------------------------\n",
    "# | **fixed acidity**        | 고정산도: 와인의 주요 산 성분 (주로 타르타르산, 구연산 등). 증류 과정에서도 휘발되지 않음\n",
    "# | **volatile acidity**     | 휘발산도: 와인 속에서 쉽게 휘발되는 산(주로 아세트산) 함량. 너무 많으면 식초 냄새가 날 수 있어 품질에 악영향\n",
    "# | **citric acid**          | 구연산: 약간의 신맛과 신선함을 더해주는 성분. 와인의 산미 밸런스를 향상시킴\n",
    "# | **residual sugar**       | 잔당(남은 설탕): 발효 후 남아있는 당분. 값이 높을수록 단맛이 남음\n",
    "# | **chlorides**            | 염화물: 와인에 들어있는 소금 성분. 너무 높으면 짠맛이나 불쾌한 맛을 줄 수 있음\n",
    "# | **free sulfur dioxide**  | 자유 이산화황: 살균/보존제로 사용되며, 박테리아를 억제함. 이 수치가 낮으면 와인이 빨리 상할 수 있음\n",
    "# | **total sulfur dioxide** | 총 이산화황: 자유 + 결합된 이산화황 총량. 보존력과 연관됨. 너무 많으면 향과 맛에 악영향\n",
    "# | **density**              | 밀도: 와인의 밀도(무게). 알코올, 당분, 기타 성분의 양에 영향을 받음\n",
    "# | **pH**                   | 산도: 산성/알칼리성 정도. 낮을수록 산성. 일반적으로 2.9\\~4.0 사이의 값을 가짐.\n",
    "# | **sulphates**            | 황산염: 방부제 역할을 하며 와인의 향과 보존에 기여함. 적절한 수준이면 긍정적, 과도하면 안 좋음\n",
    "# | **alcohol**              | 알코올 도수: 와인의 알코올 함량 (%). 일반적으로 높을수록 바디감, 풍미 증가\n",
    "# | **quality**              | 와인 품질 점수: 전문가의 감각 평가로 0~10 사이의 정수 점수 (대부분 3~8 범위)"
   ]
  },
  {
   "cell_type": "code",
   "execution_count": null,
   "id": "ed437536",
   "metadata": {},
   "outputs": [],
   "source": [
    "# quality - 점수 : 정답(레이블)\n",
    "# 가격에 영향을 미치는것?\n",
    "# 회귀 분석 -> 점수(quality) 예측"
   ]
  },
  {
   "cell_type": "code",
   "execution_count": 3,
   "id": "d3d77589",
   "metadata": {},
   "outputs": [
    {
     "name": "stdout",
     "output_type": "stream",
     "text": [
      "<class 'pandas.core.frame.DataFrame'>\n",
      "RangeIndex: 1599 entries, 0 to 1598\n",
      "Data columns (total 12 columns):\n",
      " #   Column                Non-Null Count  Dtype  \n",
      "---  ------                --------------  -----  \n",
      " 0   fixed acidity         1599 non-null   float64\n",
      " 1   volatile acidity      1599 non-null   float64\n",
      " 2   citric acid           1599 non-null   float64\n",
      " 3   residual sugar        1599 non-null   float64\n",
      " 4   chlorides             1599 non-null   float64\n",
      " 5   free sulfur dioxide   1599 non-null   float64\n",
      " 6   total sulfur dioxide  1599 non-null   float64\n",
      " 7   density               1599 non-null   float64\n",
      " 8   pH                    1599 non-null   float64\n",
      " 9   sulphates             1599 non-null   float64\n",
      " 10  alcohol               1599 non-null   float64\n",
      " 11  quality               1599 non-null   int64  \n",
      "dtypes: float64(11), int64(1)\n",
      "memory usage: 150.0 KB\n"
     ]
    }
   ],
   "source": [
    "df.info()"
   ]
  },
  {
   "cell_type": "code",
   "execution_count": 4,
   "id": "708cf06b",
   "metadata": {},
   "outputs": [
    {
     "data": {
      "text/plain": [
       "fixed acidity           0\n",
       "volatile acidity        0\n",
       "citric acid             0\n",
       "residual sugar          0\n",
       "chlorides               0\n",
       "free sulfur dioxide     0\n",
       "total sulfur dioxide    0\n",
       "density                 0\n",
       "pH                      0\n",
       "sulphates               0\n",
       "alcohol                 0\n",
       "quality                 0\n",
       "dtype: int64"
      ]
     },
     "execution_count": 4,
     "metadata": {},
     "output_type": "execute_result"
    }
   ],
   "source": [
    "df.isnull().sum()"
   ]
  },
  {
   "cell_type": "code",
   "execution_count": null,
   "id": "36fa85c5",
   "metadata": {},
   "outputs": [],
   "source": [
    "# 인코딩 필요없음"
   ]
  },
  {
   "cell_type": "code",
   "execution_count": 10,
   "id": "ab525337",
   "metadata": {},
   "outputs": [],
   "source": [
    "from sklearn.model_selection import train_test_split\n",
    "\n",
    "X = df.drop(\"quality\", axis=1)\n",
    "y = df.quality"
   ]
  },
  {
   "cell_type": "code",
   "execution_count": 13,
   "id": "67f714c1",
   "metadata": {},
   "outputs": [],
   "source": [
    "X_train, X_test, y_train, y_test = train_test_split(X, y, test_size=0.2, random_state=42)"
   ]
  },
  {
   "cell_type": "code",
   "execution_count": 14,
   "id": "2ec45e74",
   "metadata": {},
   "outputs": [],
   "source": [
    "from sklearn.linear_model import LinearRegression"
   ]
  },
  {
   "cell_type": "code",
   "execution_count": 15,
   "id": "8bb67a4f",
   "metadata": {},
   "outputs": [
    {
     "data": {
      "text/plain": [
       "array([5.34666441, 5.05631345, 5.66446972, 5.46451484, 5.72518476,\n",
       "       5.27928659, 5.03421667, 5.12623347, 5.74534288, 5.68665032,\n",
       "       6.13959677, 5.23386892, 5.54991474, 5.25825299, 5.44810502,\n",
       "       6.46828999, 5.15018088, 5.59105157, 6.5560658 , 5.32255751,\n",
       "       5.3918385 , 5.19610791, 5.94475739, 6.36197631, 5.35484893,\n",
       "       5.41907575, 6.36483321, 5.35121573, 5.172392  , 6.16987311,\n",
       "       5.25263058, 5.50657406, 5.75422105, 5.39101712, 5.45331031,\n",
       "       5.02757499, 6.16173243, 5.68661555, 5.6486077 , 6.165471  ,\n",
       "       5.52872593, 5.24414488, 6.17724727, 5.16500868, 5.87598332,\n",
       "       5.81317121, 6.41982782, 5.6059474 , 5.15232137, 5.55634632,\n",
       "       5.16044852, 5.10449459, 5.58371721, 6.33425313, 4.95134985,\n",
       "       4.98364804, 6.01041999, 5.40809804, 5.83802638, 5.2486897 ,\n",
       "       5.60717482, 5.96630957, 5.27619063, 5.30380113, 6.4949309 ,\n",
       "       5.42033967, 6.34273471, 5.24618531, 6.41317317, 5.31237924,\n",
       "       6.41746963, 4.74315748, 5.79362039, 5.8283184 , 6.17598768,\n",
       "       5.29723707, 6.76198733, 5.89745261, 6.07833712, 6.43522754,\n",
       "       5.29499011, 6.4546625 , 5.45007864, 5.69644693, 5.72368681,\n",
       "       6.41233601, 5.31025119, 5.84548953, 6.31433877, 5.20585049,\n",
       "       6.10141578, 5.70349712, 5.78679322, 5.93173502, 5.1852885 ,\n",
       "       5.74819506, 5.17351769, 5.69336056, 4.99158806, 5.52004223,\n",
       "       5.06867029, 5.13831807, 5.84991801, 5.72612872, 5.47766711,\n",
       "       6.12476389, 5.73551897, 5.44180611, 6.08785125, 5.24667513,\n",
       "       6.68434941, 5.26499691, 6.15359147, 4.74493131, 5.82508834,\n",
       "       5.9872331 , 6.17033538, 5.50859099, 5.02156367, 5.83326942,\n",
       "       6.21086737, 5.26363047, 5.75354145, 5.38942262, 5.39641713,\n",
       "       5.25966957, 6.21024761, 5.69536196, 5.58586923, 5.82155344,\n",
       "       5.79362039, 5.14962195, 5.01142496, 6.34824026, 5.55634632,\n",
       "       5.08213438, 5.05668453, 5.3517036 , 5.11920475, 5.66948552,\n",
       "       6.01614582, 6.03912287, 6.2439487 , 5.48155178, 5.86335248,\n",
       "       5.26302973, 6.06162683, 5.4041289 , 5.99869245, 5.06897434,\n",
       "       5.70161041, 6.14167652, 5.11821365, 5.67658854, 5.79362039,\n",
       "       6.0891404 , 5.22103588, 5.90134727, 5.48941228, 5.93412645,\n",
       "       6.3118134 , 5.71785286, 6.13152024, 4.9898825 , 5.39143155,\n",
       "       5.63146602, 4.70626967, 5.232132  , 5.04110749, 4.99137335,\n",
       "       5.20669998, 5.11005631, 6.29652093, 5.48263655, 5.73380671,\n",
       "       5.86096397, 6.11131909, 5.38204246, 5.39418516, 5.11161705,\n",
       "       4.74487438, 6.34043215, 5.57642863, 6.52465957, 5.18100269,\n",
       "       6.37846442, 5.39147732, 5.7435927 , 6.71436012, 5.48263655,\n",
       "       5.42573746, 6.08035849, 5.6017508 , 6.52660959, 5.79174569,\n",
       "       5.32807323, 4.92850887, 5.40669848, 5.49983794, 6.12476389,\n",
       "       5.36974106, 5.78401123, 5.48534309, 5.02135392, 6.65592712,\n",
       "       5.62370825, 4.83368748, 5.73347951, 5.68074781, 6.09738854,\n",
       "       5.99258428, 5.16969289, 5.7770828 , 6.59697123, 6.37009025,\n",
       "       5.77981876, 5.46465189, 5.19009343, 5.80517998, 5.30830978,\n",
       "       5.09158113, 6.24863165, 6.33674607, 5.99341483, 5.16829696,\n",
       "       4.81289689, 5.22265229, 6.44901207, 5.48931502, 5.31886287,\n",
       "       5.5589884 , 5.04938167, 6.32905554, 5.98208683, 6.04415923,\n",
       "       6.12476389, 5.37906696, 5.72368681, 4.795237  , 5.03676054,\n",
       "       5.68938109, 5.01079638, 5.83995808, 6.13732216, 5.24782156,\n",
       "       5.56627333, 6.00210169, 5.3626292 , 6.68219105, 5.11532126,\n",
       "       5.78120835, 5.62454656, 5.31952796, 5.51514228, 5.20719665,\n",
       "       5.13154551, 5.48620652, 5.85075029, 5.71919777, 6.80397753,\n",
       "       6.20404528, 6.04410296, 5.38204246, 6.50598024, 5.85449947,\n",
       "       6.30306847, 5.05268393, 4.92613186, 5.94872379, 6.32176541,\n",
       "       5.18546252, 5.8361393 , 5.40120414, 5.17199122, 5.3095161 ,\n",
       "       5.49911144, 5.66556707, 6.21315993, 6.22227229, 5.26433184,\n",
       "       6.48967503, 4.95165562, 5.37197617, 5.49931461, 5.3577211 ,\n",
       "       5.82641444, 4.97385804, 6.03912287, 5.03990278, 5.76144224,\n",
       "       5.67870975, 6.57726748, 5.67261468, 5.5851728 , 4.92156862,\n",
       "       6.38162382, 5.10784567, 6.30108784, 6.21224582, 6.50221084,\n",
       "       5.51985221, 5.16412612, 6.23283235, 5.32903476, 5.25839032,\n",
       "       5.32882382, 5.89753508, 5.92128255, 6.26545355, 6.57918909,\n",
       "       5.55219907, 5.56483453, 5.51937934, 5.61558301, 5.39101712,\n",
       "       5.68815279, 5.23225544, 5.2805354 , 6.2724663 , 5.19707213])"
      ]
     },
     "execution_count": 15,
     "metadata": {},
     "output_type": "execute_result"
    }
   ],
   "source": [
    "model = LinearRegression()\n",
    "model.fit(X_train, y_train)\n",
    "\n",
    "y_pred = model.predict(X_test)\n",
    "y_pred"
   ]
  }
 ],
 "metadata": {
  "kernelspec": {
   "display_name": "machine-learning",
   "language": "python",
   "name": "python3"
  },
  "language_info": {
   "codemirror_mode": {
    "name": "ipython",
    "version": 3
   },
   "file_extension": ".py",
   "mimetype": "text/x-python",
   "name": "python",
   "nbconvert_exporter": "python",
   "pygments_lexer": "ipython3",
   "version": "3.11.13"
  }
 },
 "nbformat": 4,
 "nbformat_minor": 5
}
